{
 "cells": [
  {
   "cell_type": "markdown",
   "metadata": {},
   "source": [
    "# Řešení 3. úkolu v předmětu MI-PYT\n",
    " Úkol zpracovává data z programátorského dotazníku Python Developers Survey roku 2017."
   ]
  },
  {
   "cell_type": "code",
   "execution_count": 1,
   "metadata": {},
   "outputs": [],
   "source": [
    "import numpy as np\n",
    "import pandas as pd\n",
    "import seaborn as sns\n",
    "import matplotlib\n",
    "import matplotlib.pyplot as plt\n",
    "from IPython.display import Markdown as md\n",
    "%matplotlib inline"
   ]
  },
  {
   "cell_type": "markdown",
   "metadata": {},
   "source": [
    "### Kolik lidí celkem vyplnilo dotazník?"
   ]
  },
  {
   "cell_type": "code",
   "execution_count": 2,
   "metadata": {
    "scrolled": true
   },
   "outputs": [
    {
     "data": {
      "text/markdown": [
       "Dotazník vyplnilo **9506** respondentů."
      ],
      "text/plain": [
       "<IPython.core.display.Markdown object>"
      ]
     },
     "metadata": {},
     "output_type": "display_data"
    }
   ],
   "source": [
    "df = pd.read_csv('data/pythondevsurvey2017_raw_data.csv')\n",
    "hh=df.shape[0]\n",
    "display(md('Dotazník vyplnilo **' + str(hh) + '** respondentů.'))"
   ]
  },
  {
   "cell_type": "markdown",
   "metadata": {},
   "source": [
    "### Kolik z respondentů aktuálně používá Python v nějakém projektu? "
   ]
  },
  {
   "cell_type": "code",
   "execution_count": 3,
   "metadata": {},
   "outputs": [
    {
     "data": {
      "text/markdown": [
       "Python používá v některém projektu **6417** respondentů."
      ],
      "text/plain": [
       "<IPython.core.display.Markdown object>"
      ]
     },
     "metadata": {},
     "output_type": "display_data"
    }
   ],
   "source": [
    "# Select data columns which are useful in this task.\n",
    "dfSel = df[['Is Python the main language you use for your current projects?',\n",
    "               'None:What other language(s) do you use?', 'Java:What other language(s) do you use?', \n",
    "               'JavaScript:What other language(s) do you use?',\n",
    "               'C/C++:What other language(s) do you use?', 'PHP:What other language(s) do you use?',\n",
    "               'C#:What other language(s) do you use?',\n",
    "               'Ruby:What other language(s) do you use?','Bash / Shell:What other language(s) do you use?',\n",
    "               'Objective-C:What other language(s) do you use?','Go:What other language(s) do you use?',\n",
    "               'Visual Basic:What other language(s) do you use?','Scala:What other language(s) do you use?',\n",
    "               'SQL:What other language(s) do you use?','Kotlin:What other language(s) do you use?',\n",
    "               'R:What other language(s) do you use?','Swift:What other language(s) do you use?',\n",
    "               'Clojure:What other language(s) do you use?','Perl:What other language(s) do you use?',\n",
    "               'Rust:What other language(s) do you use?','Groovy:What other language(s) do you use?',\n",
    "               'TypeScript:What other language(s) do you use?','CoffeeScript:What other language(s) do you use?',               \n",
    "               'Do you\\xa0regularly work on multiple projects at the same time?',\n",
    "                 'Could you tell us your age range?', 'What country do you live in?']]\n",
    "dfSel.columns = [x.split(':')[0] for x in dfSel.columns]\n",
    "#display(dfSel['Is Python the main language you use for your current projects?'].unique())\n",
    "\n",
    "#Create dummy codding dataset with columns as value.\n",
    "pythonis = pd.get_dummies(dfSel['Is Python the main language you use for your current projects?'])['Yes'].sum()\n",
    "# Filter data set -> data for pythonists\n",
    "dfPyt = dfSel[dfSel['Is Python the main language you use for your current projects?'] == 'Yes']\n",
    "\n",
    "display(md('Python používá v některém projektu **' + str(pythonis) + '** respondentů.'))"
   ]
  },
  {
   "cell_type": "markdown",
   "metadata": {},
   "source": [
    "### Kolik Pythonistů z Česka odpovědělo na dotazník? Kolik ze Slovenska?"
   ]
  },
  {
   "cell_type": "code",
   "execution_count": 4,
   "metadata": {},
   "outputs": [
    {
     "data": {
      "text/markdown": [
       "Na dotazník odpovědělo **45** respondentů z Česka."
      ],
      "text/plain": [
       "<IPython.core.display.Markdown object>"
      ]
     },
     "metadata": {},
     "output_type": "display_data"
    },
    {
     "data": {
      "text/markdown": [
       "Na dotazník odpovědělo **17** respondentů ze Slovenska."
      ],
      "text/plain": [
       "<IPython.core.display.Markdown object>"
      ]
     },
     "metadata": {},
     "output_type": "display_data"
    }
   ],
   "source": [
    "#countries = dfPyt['What country do you live in?'].astype(str).unique()\n",
    "#countries.sort()\n",
    "#display(countries)\n",
    "cntCzech = dfPyt[dfPyt['What country do you live in?'] == 'Czech Republic'].shape[0]\n",
    "cntSlovak = dfPyt[dfPyt['What country do you live in?'] == 'Slovakia'].shape[0]\n",
    "display(md('Na dotazník odpovědělo **' + str(cntCzech) + '** respondentů z Česka.'))\n",
    "display(md('Na dotazník odpovědělo **' + str(cntSlovak) + '** respondentů ze Slovenska.'))"
   ]
  },
  {
   "cell_type": "code",
   "execution_count": null,
   "metadata": {},
   "outputs": [],
   "source": []
  }
 ],
 "metadata": {
  "kernelspec": {
   "display_name": "Python 3",
   "language": "python",
   "name": "python3"
  },
  "language_info": {
   "codemirror_mode": {
    "name": "ipython",
    "version": 3
   },
   "file_extension": ".py",
   "mimetype": "text/x-python",
   "name": "python",
   "nbconvert_exporter": "python",
   "pygments_lexer": "ipython3",
   "version": "3.7.0"
  }
 },
 "nbformat": 4,
 "nbformat_minor": 2
}
