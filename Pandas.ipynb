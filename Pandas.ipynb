{
 "cells": [
  {
   "cell_type": "markdown",
   "metadata": {},
   "source": [
    "# Řešení 3. úkolu v předmětu MI-PYT\n",
    " Úkol zpracovává data z programátorského dotazníku Python Developers Survey roku 2017."
   ]
  },
  {
   "cell_type": "code",
   "execution_count": 1,
   "metadata": {},
   "outputs": [],
   "source": [
    "import numpy as np\n",
    "import pandas as pd\n",
    "import seaborn as sns\n",
    "import matplotlib\n",
    "import matplotlib.pyplot as plt\n",
    "from IPython.display import Markdown as md\n",
    "%matplotlib inline"
   ]
  },
  {
   "cell_type": "markdown",
   "metadata": {},
   "source": [
    "### Kolik lidí celkem vyplnilo dotazník?"
   ]
  },
  {
   "cell_type": "code",
   "execution_count": 41,
   "metadata": {
    "scrolled": true
   },
   "outputs": [
    {
     "data": {
      "text/markdown": [
       "Dotazník vyplnilo **9506** respondentů."
      ],
      "text/plain": [
       "<IPython.core.display.Markdown object>"
      ]
     },
     "metadata": {},
     "output_type": "display_data"
    }
   ],
   "source": [
    "df = pd.read_csv('data/pythondevsurvey2017_raw_data.csv')\n",
    "hh=df.shape[0]\n",
    "display(md('Dotazník vyplnilo **' + str(hh) + '** respondentů.'))"
   ]
  },
  {
   "cell_type": "markdown",
   "metadata": {},
   "source": [
    "### Kolik z respondentů aktuálně používá Python v nějakém projektu? "
   ]
  },
  {
   "cell_type": "code",
   "execution_count": 69,
   "metadata": {},
   "outputs": [
    {
     "data": {
      "text/markdown": [
       "Python používá v některém projektu **6417** respondentů."
      ],
      "text/plain": [
       "<IPython.core.display.Markdown object>"
      ]
     },
     "metadata": {},
     "output_type": "display_data"
    }
   ],
   "source": [
    "# Select data columns which are useful in this task.\n",
    "dfSel = df[['Is Python the main language you use for your current projects?',\n",
    "               'None:What other language(s) do you use?', 'Java:What other language(s) do you use?', \n",
    "               'JavaScript:What other language(s) do you use?',\n",
    "               'C/C++:What other language(s) do you use?', 'PHP:What other language(s) do you use?',\n",
    "               'C#:What other language(s) do you use?',\n",
    "               'Ruby:What other language(s) do you use?','Bash / Shell:What other language(s) do you use?',\n",
    "               'Objective-C:What other language(s) do you use?','Go:What other language(s) do you use?',\n",
    "               'Visual Basic:What other language(s) do you use?','Scala:What other language(s) do you use?',\n",
    "               'SQL:What other language(s) do you use?','Kotlin:What other language(s) do you use?',\n",
    "               'R:What other language(s) do you use?','Swift:What other language(s) do you use?',\n",
    "               'Clojure:What other language(s) do you use?','Perl:What other language(s) do you use?',\n",
    "               'Rust:What other language(s) do you use?','Groovy:What other language(s) do you use?',\n",
    "               'TypeScript:What other language(s) do you use?','CoffeeScript:What other language(s) do you use?',               \n",
    "               'Do you\\xa0regularly work on multiple projects at the same time?',\n",
    "                 'Could you tell us your age range?', 'What country do you live in?']]\n",
    "dfSel.columns = [x.split(':')[0] for x in dfSel.columns]\n",
    "#display(dfSel['Is Python the main language you use for your current projects?'].unique())\n",
    "\n",
    "#Create dummy codding dataset with columns as value.\n",
    "pythonis = pd.get_dummies(dfSel['Is Python the main language you use for your current projects?'])['Yes'].sum()\n",
    "# Filter data set -> data for pythonists\n",
    "dfPyt = dfSel[dfSel['Is Python the main language you use for your current projects?'] == 'Yes']\n",
    "\n",
    "display(md('Python používá v některém projektu **' + str(pythonis) + '** respondentů.'))"
   ]
  },
  {
   "cell_type": "markdown",
   "metadata": {},
   "source": [
    "### Kolik Pythonistů z Česka odpovědělo na dotazník? Kolik ze Slovenska?"
   ]
  },
  {
   "cell_type": "code",
   "execution_count": 94,
   "metadata": {},
   "outputs": [
    {
     "data": {
      "text/markdown": [
       "Na dotazník odpovědělo **45** pythonistů z Česka."
      ],
      "text/plain": [
       "<IPython.core.display.Markdown object>"
      ]
     },
     "metadata": {},
     "output_type": "display_data"
    },
    {
     "data": {
      "text/markdown": [
       "Na dotazník odpovědělo **17** pythonistů ze Slovenska."
      ],
      "text/plain": [
       "<IPython.core.display.Markdown object>"
      ]
     },
     "metadata": {},
     "output_type": "display_data"
    }
   ],
   "source": [
    "#countries = dfPyt['What country do you live in?'].astype(str).unique()\n",
    "#countries.sort()\n",
    "#display(countries)\n",
    "cntCzech = dfPyt[dfPyt['What country do you live in?'] == 'Czech Republic'].shape[0]\n",
    "cntSlovak = dfPyt[dfPyt['What country do you live in?'] == 'Slovakia'].shape[0]\n",
    "display(md('Na dotazník odpovědělo **' + str(cntCzech) + '** Pythonistů z Česka.'))\n",
    "display(md('Na dotazník odpovědělo **' + str(cntSlovak) + '** Pythonistů ze Slovenska.'))"
   ]
  },
  {
   "cell_type": "code",
   "execution_count": 100,
   "metadata": {},
   "outputs": [
    {
     "data": {
      "text/markdown": [
       "Staticky typovaný jazyky používá **4648** Pythonistů."
      ],
      "text/plain": [
       "<IPython.core.display.Markdown object>"
      ]
     },
     "metadata": {},
     "output_type": "display_data"
    },
    {
     "data": {
      "text/markdown": [
       "Dynamicky typovaný jazyky jiný než Python používá **4729** Pythonistů."
      ],
      "text/plain": [
       "<IPython.core.display.Markdown object>"
      ]
     },
     "metadata": {},
     "output_type": "display_data"
    },
    {
     "data": {
      "text/markdown": [
       "Staticky i dynamicky typovaný jazyky současně používá **3648** Pythonistů."
      ],
      "text/plain": [
       "<IPython.core.display.Markdown object>"
      ]
     },
     "metadata": {},
     "output_type": "display_data"
    },
    {
     "data": {
      "text/markdown": [
       "Samotný Python používá **688** Pythonistů."
      ],
      "text/plain": [
       "<IPython.core.display.Markdown object>"
      ]
     },
     "metadata": {},
     "output_type": "display_data"
    }
   ],
   "source": [
    "staticLan = ['Java', 'C/C++', 'C#', 'Objective-C', 'Go', 'Scala', \n",
    "             'SQL', 'Kotlin', 'Swift', 'Rust', 'TypeScript']    \n",
    "dynamicLan = ['JavaScript', 'PHP', 'Ruby', 'Bash / Shell', 'Visual Basic', \n",
    "              'R', 'Clojure', 'Perl', 'Groovy', 'CoffeeScript']\n",
    "\n",
    "dfLan = dfPyt.copy()\n",
    "for lanColumn in dfPyt.columns[1:-3]:\n",
    "    #display(dfPyt[lanColumn].unique(),lanColumn)\n",
    "    dfLan.loc[:, lanColumn] = dfPyt.loc[:, lanColumn].eq(lanColumn).mul(1)\n",
    "# Create column with sum of use language from category (static/dynamic)\n",
    "dfLan['static'] = 0\n",
    "dfLan['dynamic'] = 0\n",
    "for lan in staticLan:\n",
    "    dfLan['static'] = dfLan['static'] + dfLan[lan]\n",
    "for lan in dynamicLan:\n",
    "    dfLan['dynamic'] = dfLan['dynamic'] + dfLan[lan]\n",
    "\n",
    "#Get counts using counts\n",
    "cntStatic = dfLan[dfLan['static'] > 0].shape[0]\n",
    "cntDynamic = dfLan[dfLan['dynamic'] > 0].shape[0]\n",
    "cntBoth = dfLan[(dfLan['static'] > 0) & (dfLan['dynamic'] > 0)].shape[0]\n",
    "cntPython = dfLan[(dfLan['static'] == 0) & (dfLan['dynamic'] == 0)].shape[0]\n",
    "# Count test\n",
    "#if dfLan.shape[0] != cntDynamic + cntStatic - cntBoth + cntPython:\n",
    "#    display(\"Count of numbers in Sets not good. Error.\")\n",
    "    \n",
    "display(md('Staticky typovaný jazyky používá **' + str(cntStatic) + '** Pythonistů.'))\n",
    "display(md('Dynamicky typovaný jazyky jiný než Python používá **' + str(cntDynamic) + '** Pythonistů.'))\n",
    "display(md('Staticky i dynamicky typovaný jazyky současně používá **' + str(cntBoth) + '** Pythonistů.'))\n",
    "display(md('Samotný Python používá **' + str(cntPython) + '** Pythonistů.'))\n"
   ]
  },
  {
   "cell_type": "code",
   "execution_count": null,
   "metadata": {},
   "outputs": [],
   "source": []
  }
 ],
 "metadata": {
  "kernelspec": {
   "display_name": "Python 3",
   "language": "python",
   "name": "python3"
  },
  "language_info": {
   "codemirror_mode": {
    "name": "ipython",
    "version": 3
   },
   "file_extension": ".py",
   "mimetype": "text/x-python",
   "name": "python",
   "nbconvert_exporter": "python",
   "pygments_lexer": "ipython3",
   "version": "3.7.0"
  }
 },
 "nbformat": 4,
 "nbformat_minor": 2
}
